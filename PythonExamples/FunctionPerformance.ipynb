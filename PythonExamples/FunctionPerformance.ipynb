{
 "cells": [
  {
   "cell_type": "markdown",
   "id": "e3618af4",
   "metadata": {},
   "source": [
    "# Creating my own functions and comparing their performance times with existing packages created for Python."
   ]
  },
  {
   "cell_type": "markdown",
   "id": "1ac7b2e7",
   "metadata": {},
   "source": [
    "To Do:\n",
    "1. Import numpy and matploylib.\n",
    "2. Create a function that generates a random square matrix N x N where N is the input value of the function. (And don't use numpy)\n",
    "3. Do the same of 2. using numpy\n",
    "4. Use sklearn normalize() on one matrix 5x5, then use standard scaler(). Print the result.\n",
    "5. Use standard scaler() on the matrix from 4, and after that use normalize(). Print the result and compare with 4.\n",
    "6. Create a function that calculates the mean of any square matrix of dim N (dont use numpy)\n",
    "7. Do again 6. using numpy.\n",
    "8. Now using 2 and 6 generate the mean value of matrices of size 10, 100, 1000, 10000.\n",
    "9. Same as 8 but using 3 and 7\n",
    "10. Plot the results of 8 and 9 for comparasion.\n"
   ]
  },
  {
   "cell_type": "code",
   "execution_count": 39,
   "id": "d82e11d2",
   "metadata": {},
   "outputs": [],
   "source": [
    "#imports\n",
    "import numpy as np\n",
    "import matplotlib.pyplot as plt\n",
    "import random\n",
    "from sklearn import preprocessing\n",
    "from time import time\n",
    "import math"
   ]
  },
  {
   "cell_type": "markdown",
   "id": "8ad1af84",
   "metadata": {},
   "source": [
    "### Generate a random NxN matrix"
   ]
  },
  {
   "cell_type": "code",
   "execution_count": 26,
   "id": "7382de53",
   "metadata": {},
   "outputs": [],
   "source": [
    "#function to generate a random square matrix of size \n",
    "# range of rng (-100,100)\n",
    "\n",
    "def generate_sq_m(n):\n",
    "    #outer list\n",
    "    lO = list()\n",
    "    \n",
    "    #makes sure n is an integer\n",
    "    n=int(n)\n",
    "    \n",
    "    for z in range(n):\n",
    "        #inner list, creates the rows\n",
    "        lI = list()\n",
    "        \n",
    "        # creates a randomly generated list of n elements\n",
    "        for i in range(n):\n",
    "            \n",
    "            #can change the random function here to include a \n",
    "            #different range or produce integers\n",
    "            \n",
    "            rgn = random.randint(-100,100)\n",
    "            lI.append(rgn)\n",
    "            i = i+1\n",
    "        \n",
    "        #add that inner list to the outer list\n",
    "        lO.append(lI)\n",
    "        #leave the loop\n",
    "        \n",
    "    return lO"
   ]
  },
  {
   "cell_type": "code",
   "execution_count": 27,
   "id": "49825418",
   "metadata": {},
   "outputs": [
    {
     "name": "stdout",
     "output_type": "stream",
     "text": [
      "Generating a random NxN matrix using my own function\n",
      "Enter a value for N:\n",
      "3\n"
     ]
    },
    {
     "data": {
      "text/plain": [
       "[[3, 100, -57], [76, -91, -17], [57, -50, -54]]"
      ]
     },
     "execution_count": 27,
     "metadata": {},
     "output_type": "execute_result"
    }
   ],
   "source": [
    "#gets a value for the user\n",
    "print('Generating a random NxN matrix using my own function')\n",
    "print('Enter a value for N:')\n",
    "n = input()\n",
    "n=int(n)\n",
    "\n",
    "# calling the function\n",
    "generate_sq_m(n)"
   ]
  },
  {
   "cell_type": "markdown",
   "id": "0fdd47ae",
   "metadata": {},
   "source": [
    "### Generating a random NxN matrix using numpy"
   ]
  },
  {
   "cell_type": "code",
   "execution_count": 28,
   "id": "2a74e1d4",
   "metadata": {
    "scrolled": true
   },
   "outputs": [
    {
     "name": "stdout",
     "output_type": "stream",
     "text": [
      "Generating a random NxN matrix using numpy\n",
      "Enter a value for N:\n",
      "3\n",
      "[[-45  20 -34]\n",
      " [-53 -86  48]\n",
      " [ 69 -22  12]]\n"
     ]
    }
   ],
   "source": [
    "#Arguments: (low,high,size=(rows,cols))\n",
    "\n",
    "#gets a value for the user\n",
    "print('Generating a random NxN matrix using numpy')\n",
    "print('Enter a value for N:')\n",
    "n = input()\n",
    "n=int(n)\n",
    "    \n",
    "matrix = np.random.randint(-100,100, size=(n, n))\n",
    "print(matrix)"
   ]
  },
  {
   "cell_type": "markdown",
   "id": "40224e44",
   "metadata": {},
   "source": [
    "### Normalize then Scale a 5x5 matrix"
   ]
  },
  {
   "cell_type": "code",
   "execution_count": 29,
   "id": "9232a401",
   "metadata": {},
   "outputs": [
    {
     "name": "stdout",
     "output_type": "stream",
     "text": [
      "5x5 Matrix:\n",
      "[[ 36  42 -65 -19  68]\n",
      " [ 57 -27 -83 -25 -25]\n",
      " [ 26  56  75  19  75]\n",
      " [-54  16  93  -5 -48]\n",
      " [ 85 -45  76  27   3]]\n"
     ]
    }
   ],
   "source": [
    "m5 = np.random.randint(-100,100, size=(5, 5))\n",
    "print('5x5 Matrix:')\n",
    "print(m5)"
   ]
  },
  {
   "cell_type": "code",
   "execution_count": 30,
   "id": "53a93b73",
   "metadata": {
    "scrolled": true
   },
   "outputs": [
    {
     "name": "stdout",
     "output_type": "stream",
     "text": [
      "Normed then Scaled Matrix:\n",
      "[[ 0.17981589  0.94489058 -1.08796364 -0.90234191  1.17073488]\n",
      " [ 0.67544852 -0.97714606 -1.34174643 -1.22182198 -0.83179084]\n",
      " [-0.11742909  1.16576787  0.7191966   0.96280295  1.14699969]\n",
      " [-1.82243847  0.19183705  0.98919647 -0.1580891  -1.25183392]\n",
      " [ 1.08460314 -1.32534945  0.72131701  1.31945004 -0.23410981]]\n"
     ]
    }
   ],
   "source": [
    "#normalising first\n",
    "\n",
    "#print('Normalised Matrix:')\n",
    "m5_norm = preprocessing.normalize(m5)\n",
    "#print(m5_norm)\n",
    "\n",
    "#scaling second\n",
    "\n",
    "print('Normed then Scaled Matrix:')\n",
    "scaler = preprocessing.StandardScaler()\n",
    "m5_scaled = scaler.fit_transform(m5_norm)\n",
    "print(m5_scaled)"
   ]
  },
  {
   "cell_type": "markdown",
   "id": "8001d11a",
   "metadata": {},
   "source": [
    "### Scale then Normalize a 5x5 matrix"
   ]
  },
  {
   "cell_type": "code",
   "execution_count": 31,
   "id": "881ac842",
   "metadata": {},
   "outputs": [
    {
     "name": "stdout",
     "output_type": "stream",
     "text": [
      "Sacled then Normalised Matrix:\n",
      "[[ 0.32499765  0.37916392 -0.58680131 -0.17152654  0.61388445]\n",
      " [ 0.51781819 -0.2452823  -0.75401596 -0.22711324 -0.22711324]\n",
      " [ 0.20935769  0.45092426  0.60391641  0.15299216  0.60391641]\n",
      " [-0.45395786  0.13450603  0.78181631 -0.04203314 -0.4035181 ]\n",
      " [ 0.67699539 -0.35840933  0.60531353  0.2150456   0.02389396]]\n"
     ]
    }
   ],
   "source": [
    "#scaling first \n",
    "\n",
    "#print('Scaled Matrix:')\n",
    "scaler = preprocessing.StandardScaler()\n",
    "m5_scaled = scaler.fit_transform(m5_norm)\n",
    "##print(m5_scaled)\n",
    "\n",
    "#normalising second\n",
    "print('Sacled then Normalised Matrix:')\n",
    "m5_norm = preprocessing.normalize(m5)\n",
    "print(m5_norm)"
   ]
  },
  {
   "cell_type": "markdown",
   "id": "16241a9f",
   "metadata": {},
   "source": [
    "Notice how the two previous matrices are different: scaling and normalization are not commutative"
   ]
  },
  {
   "cell_type": "markdown",
   "id": "9e66e14b",
   "metadata": {},
   "source": [
    "### Function to calculate the mean of a square matrix"
   ]
  },
  {
   "cell_type": "code",
   "execution_count": 32,
   "id": "4d3298ff",
   "metadata": {},
   "outputs": [],
   "source": [
    "def mean_matrix(matrix):\n",
    "    sum = 0\n",
    "    n = len(matrix)\n",
    "    \n",
    "    for i in range(n):\n",
    "        for z in range(n):\n",
    "            sum = sum + matrix[i][z]\n",
    "    mean = sum/(n*n)\n",
    "    return mean"
   ]
  },
  {
   "cell_type": "code",
   "execution_count": 33,
   "id": "565a9a82",
   "metadata": {},
   "outputs": [
    {
     "data": {
      "text/plain": [
       "5.333333333333333"
      ]
     },
     "execution_count": 33,
     "metadata": {},
     "output_type": "execute_result"
    }
   ],
   "source": [
    "m =[[2,3,4],[4,5,6],[7,8,9]]\n",
    "mean_matrix(m)"
   ]
  },
  {
   "cell_type": "code",
   "execution_count": 34,
   "id": "23f2a21f",
   "metadata": {},
   "outputs": [
    {
     "data": {
      "text/plain": [
       "1.0"
      ]
     },
     "execution_count": 34,
     "metadata": {},
     "output_type": "execute_result"
    }
   ],
   "source": [
    "m =[[1,1,1],[1,1,1],[1,1,1]]\n",
    "mean_matrix(m)"
   ]
  },
  {
   "cell_type": "markdown",
   "id": "3e201057",
   "metadata": {},
   "source": [
    "### Recording time "
   ]
  },
  {
   "cell_type": "code",
   "execution_count": 50,
   "id": "793af6fd",
   "metadata": {},
   "outputs": [],
   "source": [
    "x_sizes = [10,100,1000,10000]\n",
    "my_time = []\n",
    "num_time=[]\n",
    "log_my_time = []\n",
    "log_num_time=[]"
   ]
  },
  {
   "cell_type": "markdown",
   "id": "c1e28486",
   "metadata": {},
   "source": [
    "### Calculate the mean of  a square matrix using numpy"
   ]
  },
  {
   "cell_type": "code",
   "execution_count": 51,
   "id": "472d57be",
   "metadata": {},
   "outputs": [
    {
     "name": "stdout",
     "output_type": "stream",
     "text": [
      "1.0\n"
     ]
    }
   ],
   "source": [
    "mean= np.average(m)\n",
    "print(mean)"
   ]
  },
  {
   "cell_type": "markdown",
   "id": "b7fa7ce3",
   "metadata": {},
   "source": [
    "### Generating matrices using my own functions"
   ]
  },
  {
   "cell_type": "code",
   "execution_count": 52,
   "id": "860795ce",
   "metadata": {
    "scrolled": false
   },
   "outputs": [
    {
     "name": "stdout",
     "output_type": "stream",
     "text": [
      "Mean value 10x10:  -3.01\n",
      "Mean value 100x100:  0.0431\n",
      "Mean value 1000x1000:  0.055041\n",
      "Mean value 10000x10000:  0.00226824\n",
      "Times taken:  [0.0009992122650146484, 0.0189974308013916, 1.7122442722320557, 206.09900856018066]\n",
      "Log of times taken:  [-6.908543324393725, -3.9634515299382667, 0.5378049499199251, 5.32835667740537]\n"
     ]
    }
   ],
   "source": [
    "# n = 10\n",
    "ti = time()\n",
    "m10 = generate_sq_m(10)\n",
    "mean10 = mean_matrix(m10)\n",
    "print('Mean value 10x10: ',mean10)\n",
    "t = time()-ti\n",
    "my_time.append(t)\n",
    "if t != 0:\n",
    "    log_my_time.append(np.log(t))\n",
    "\n",
    "\n",
    "# n = 100\n",
    "ti = time()\n",
    "m100 = generate_sq_m(100)\n",
    "mean100 = mean_matrix(m100)\n",
    "print('Mean value 100x100: ',mean100)\n",
    "t = time()-ti\n",
    "my_time.append(t)\n",
    "log_my_time.append(np.log(t))\n",
    "    \n",
    "# n = 1000\n",
    "ti = time()\n",
    "m1000 = generate_sq_m(1000)\n",
    "mean1000 = mean_matrix(m1000)\n",
    "print('Mean value 1000x1000: ',mean1000)\n",
    "t = time()-ti\n",
    "my_time.append(t)\n",
    "log_my_time.append(np.log(t))\n",
    "\n",
    "# n = 10000\n",
    "ti = time()\n",
    "m10000 = generate_sq_m(10000)\n",
    "mean10000 = mean_matrix(m10000)\n",
    "print('Mean value 10000x10000: ',mean10000)\n",
    "t = time()-ti\n",
    "my_time.append(t)\n",
    "log_my_time.append(np.log(t))\n",
    "\n",
    "print('Times taken: ',my_time)\n",
    "print('Log of times taken: ',log_my_time)\n"
   ]
  },
  {
   "cell_type": "markdown",
   "id": "93298f50",
   "metadata": {},
   "source": [
    "### Generating matrices using numpy"
   ]
  },
  {
   "cell_type": "code",
   "execution_count": 53,
   "id": "ff05dcc3",
   "metadata": {},
   "outputs": [
    {
     "name": "stdout",
     "output_type": "stream",
     "text": [
      "Mean value 10x10:  3.53\n",
      "Mean value 100x100:  -0.3397\n",
      "Mean value 1000x1000:  -0.575112\n",
      "Mean value 10000x10000:  -0.50555527\n",
      "Times taken:  [0.06835699081420898, 0.00800013542175293, 0.292055606842041, 6.605624675750732]\n",
      "Log of times taken:  [-6.908543324393725, -3.9634515299382667, 0.5378049499199251, 5.32835667740537]\n"
     ]
    }
   ],
   "source": [
    "# n = 10\n",
    "ti = time()\n",
    "m10 = np.random.randint(-100,100, size=(10, 10))\n",
    "mean10 = np.average(m10)\n",
    "print('Mean value 10x10: ',mean10)\n",
    "t = time()-ti\n",
    "num_time.append(t)\n",
    "if t != 0:\n",
    "    log_num_time.append(np.log(t))  \n",
    "    \n",
    "# n = 100\n",
    "ti=time()\n",
    "m100 = np.random.randint(-100,100, size=(100, 100))\n",
    "mean100 = np.average(m100)\n",
    "print('Mean value 100x100: ',mean100)\n",
    "t = time()-ti\n",
    "num_time.append(t)\n",
    "log_num_time.append(np.log(t)) \n",
    "\n",
    "# n = 1000\n",
    "ti=time()\n",
    "m1000 = np.random.randint(-100,100, size=(1000, 1000))\n",
    "mean1000 = np.average(m1000)\n",
    "print('Mean value 1000x1000: ',mean1000)\n",
    "t = time()-ti\n",
    "num_time.append(t)\n",
    "log_num_time.append(np.log(t))\n",
    "\n",
    "# n = 10000\n",
    "ti =time()\n",
    "m10000 = np.random.randint(-100,100, size=(10000, 10000))\n",
    "mean10000 = np.average(m10000)\n",
    "print('Mean value 10000x10000: ',mean10000)\n",
    "t = time()-ti\n",
    "num_time.append(t)\n",
    "log_num_time.append(np.log(t))  \n",
    "\n",
    "print('Times taken: ',num_time)\n",
    "print('Log of times taken: ',log_my_time)\n"
   ]
  },
  {
   "cell_type": "markdown",
   "id": "4b72c765",
   "metadata": {},
   "source": [
    "#### Note how the numpy code worked much faster"
   ]
  },
  {
   "cell_type": "markdown",
   "id": "b3cf4da5",
   "metadata": {},
   "source": [
    "### Plotting times of numpy vs my code "
   ]
  },
  {
   "cell_type": "code",
   "execution_count": 64,
   "id": "2aeb8717",
   "metadata": {},
   "outputs": [
    {
     "data": {
      "image/png": "[encoded data removed]",
      "text/plain": [
       "<Figure size 432x432 with 1 Axes>"
      ]
     },
     "metadata": {
      "needs_background": "light"
     },
     "output_type": "display_data"
    }
   ],
   "source": [
    "#setting the figure size\n",
    "plot = plt.figure(figsize=(6,6))\n",
    "\n",
    "#plotting the two time lists\n",
    "plt.plot(x_sizes,my_time,'go-',label='My functions')\n",
    "plt.plot(x_sizes,num_time,'ro-',label='Numpy functions')\n",
    "\n",
    "plt.legend()\n",
    "\n",
    "#setting some attributes of the graph\n",
    "plt.xlabel('Matrix Size')\n",
    "plt.ylabel('Time')\n",
    "plt.title('Generate the matrices and calculate means')\n",
    "plt.grid(True)\n",
    "\n",
    "\n",
    "#saving the graph\n",
    "\n",
    "#NOTE: Must save the plot before plt.show() !!!\n",
    "plt.savefig('timePlot.jpg')\n",
    "\n",
    "plt.show()\n"
   ]
  },
  {
   "cell_type": "markdown",
   "id": "82b43ffc",
   "metadata": {},
   "source": [
    "### Plotting log times of numpy versus my code "
   ]
  },
  {
   "cell_type": "code",
   "execution_count": 63,
   "id": "a9103346",
   "metadata": {},
   "outputs": [
    {
     "data": {
      "image/png": "[encoded data removed]",
      "text/plain": [
       "<Figure size 432x432 with 1 Axes>"
      ]
     },
     "metadata": {
      "needs_background": "light"
     },
     "output_type": "display_data"
    }
   ],
   "source": [
    "log_x_sizes = [1,2,3,4]\n",
    "\n",
    "#setting the figure size\n",
    "plot = plt.figure(figsize=(6,6))\n",
    "\n",
    "#plotting the two time lists\n",
    "plt.plot(log_x_sizes,my_time,'go-',label='My functions')\n",
    "plt.plot(log_x_sizes,num_time,'ro-',label='Numpy functions')\n",
    "\n",
    "plt.legend()\n",
    "\n",
    "#setting some attributes of the graph\n",
    "plt.xlabel('Log Matrix Size')\n",
    "plt.ylabel('Time')\n",
    "plt.title('Generate the matrices and calculate means')\n",
    "plt.grid(True)\n",
    "\n",
    "\n",
    "#saving the graph\n",
    "\n",
    "#NOTE: Must save the plot before plt.show() !!!\n",
    "plt.savefig('logtimePlot.jpg')\n",
    "\n",
    "plt.show()\n"
   ]
  },
  {
   "cell_type": "code",
   "execution_count": null,
   "id": "4a6b349d",
   "metadata": {},
   "outputs": [],
   "source": []
  }
 ],
 "metadata": {
  "kernelspec": {
   "display_name": "Python 3 (ipykernel)",
   "language": "python",
   "name": "python3"
  },
  "language_info": {
   "codemirror_mode": {
    "name": "ipython",
    "version": 3
   },
   "file_extension": ".py",
   "mimetype": "text/x-python",
   "name": "python",
   "nbconvert_exporter": "python",
   "pygments_lexer": "ipython3",
   "version": "3.9.12"
  }
 },
 "nbformat": 4,
 "nbformat_minor": 5
}
